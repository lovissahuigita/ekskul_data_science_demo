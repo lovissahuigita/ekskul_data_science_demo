{
 "cells": [
  {
   "cell_type": "markdown",
   "id": "e8174129",
   "metadata": {},
   "source": [
    "# Week 5 Demo"
   ]
  },
  {
   "cell_type": "markdown",
   "id": "581e9122",
   "metadata": {},
   "source": [
    "## Data Import"
   ]
  },
  {
   "cell_type": "code",
   "execution_count": 1,
   "id": "0e1f9522",
   "metadata": {},
   "outputs": [],
   "source": [
    "# IMPORT PANDAS LIBRARY\n",
    "import pandas as pd"
   ]
  },
  {
   "cell_type": "code",
   "execution_count": 2,
   "id": "e05e1dc0",
   "metadata": {},
   "outputs": [],
   "source": [
    "# READ THE CSV FILE\n",
    "df = pd.read_csv(\"data.csv\")"
   ]
  },
  {
   "cell_type": "code",
   "execution_count": 3,
   "id": "943cece0",
   "metadata": {},
   "outputs": [
    {
     "data": {
      "text/html": [
       "<div>\n",
       "<style scoped>\n",
       "    .dataframe tbody tr th:only-of-type {\n",
       "        vertical-align: middle;\n",
       "    }\n",
       "\n",
       "    .dataframe tbody tr th {\n",
       "        vertical-align: top;\n",
       "    }\n",
       "\n",
       "    .dataframe thead th {\n",
       "        text-align: right;\n",
       "    }\n",
       "</style>\n",
       "<table border=\"1\" class=\"dataframe\">\n",
       "  <thead>\n",
       "    <tr style=\"text-align: right;\">\n",
       "      <th></th>\n",
       "      <th>Date</th>\n",
       "      <th>Month</th>\n",
       "      <th>Year</th>\n",
       "      <th>Customer ID</th>\n",
       "      <th>Customer Age</th>\n",
       "      <th>Age Group</th>\n",
       "      <th>Customer Gender</th>\n",
       "      <th>Country</th>\n",
       "      <th>State</th>\n",
       "      <th>Product Category</th>\n",
       "      <th>Sub Category</th>\n",
       "      <th>Product</th>\n",
       "      <th>Frame Size</th>\n",
       "      <th>Order Quantity</th>\n",
       "      <th>Unit Cost</th>\n",
       "      <th>Unit Price</th>\n",
       "      <th>Cost</th>\n",
       "      <th>Revenue</th>\n",
       "      <th>Profit</th>\n",
       "    </tr>\n",
       "  </thead>\n",
       "  <tbody>\n",
       "    <tr>\n",
       "      <th>0</th>\n",
       "      <td>11/26/13</td>\n",
       "      <td>November</td>\n",
       "      <td>2013.0</td>\n",
       "      <td>11019.0</td>\n",
       "      <td>NaN</td>\n",
       "      <td>Youth (&lt;25)</td>\n",
       "      <td>M</td>\n",
       "      <td>Canada</td>\n",
       "      <td>British Columbia</td>\n",
       "      <td>Accessories</td>\n",
       "      <td>Bike Racks</td>\n",
       "      <td>Hitch Rack - 4-Bike</td>\n",
       "      <td>NaN</td>\n",
       "      <td>8.0</td>\n",
       "      <td>45.0</td>\n",
       "      <td>120.0</td>\n",
       "      <td>360.0</td>\n",
       "      <td>950</td>\n",
       "      <td>590.0</td>\n",
       "    </tr>\n",
       "    <tr>\n",
       "      <th>1</th>\n",
       "      <td>11/26/15</td>\n",
       "      <td>November</td>\n",
       "      <td>2015.0</td>\n",
       "      <td>11019.0</td>\n",
       "      <td>NaN</td>\n",
       "      <td>Youth (&lt;25)</td>\n",
       "      <td>M</td>\n",
       "      <td>Canada</td>\n",
       "      <td>British Columbia</td>\n",
       "      <td>Accessories</td>\n",
       "      <td>Bike Racks</td>\n",
       "      <td>Hitch Rack - 4-Bike</td>\n",
       "      <td>NaN</td>\n",
       "      <td>8.0</td>\n",
       "      <td>45.0</td>\n",
       "      <td>120.0</td>\n",
       "      <td>360.0</td>\n",
       "      <td>950</td>\n",
       "      <td>590.0</td>\n",
       "    </tr>\n",
       "    <tr>\n",
       "      <th>2</th>\n",
       "      <td>3/23/14</td>\n",
       "      <td>March</td>\n",
       "      <td>2014.0</td>\n",
       "      <td>11039.0</td>\n",
       "      <td>49.0</td>\n",
       "      <td>Adults (35-64)</td>\n",
       "      <td>M</td>\n",
       "      <td>NaN</td>\n",
       "      <td>New South Wales</td>\n",
       "      <td>Accessories</td>\n",
       "      <td>Bike Racks</td>\n",
       "      <td>Hitch Rack - 4-Bike</td>\n",
       "      <td>NaN</td>\n",
       "      <td>23.0</td>\n",
       "      <td>45.0</td>\n",
       "      <td>120.0</td>\n",
       "      <td>1035.0</td>\n",
       "      <td>2401</td>\n",
       "      <td>1366.0</td>\n",
       "    </tr>\n",
       "    <tr>\n",
       "      <th>3</th>\n",
       "      <td>3/23/16</td>\n",
       "      <td>March</td>\n",
       "      <td>2016.0</td>\n",
       "      <td>11039.0</td>\n",
       "      <td>49.0</td>\n",
       "      <td>Adults (35-64)</td>\n",
       "      <td>M</td>\n",
       "      <td>NaN</td>\n",
       "      <td>New South Wales</td>\n",
       "      <td>Accessories</td>\n",
       "      <td>Bike Racks</td>\n",
       "      <td>Hitch Rack - 4-Bike</td>\n",
       "      <td>NaN</td>\n",
       "      <td>20.0</td>\n",
       "      <td>45.0</td>\n",
       "      <td>120.0</td>\n",
       "      <td>900.0</td>\n",
       "      <td>2088</td>\n",
       "      <td>1188.0</td>\n",
       "    </tr>\n",
       "    <tr>\n",
       "      <th>4</th>\n",
       "      <td>5/15/14</td>\n",
       "      <td>May</td>\n",
       "      <td>2014.0</td>\n",
       "      <td>11046.0</td>\n",
       "      <td>47.0</td>\n",
       "      <td>Adults (35-64)</td>\n",
       "      <td>F</td>\n",
       "      <td>Australia</td>\n",
       "      <td>New South Wales</td>\n",
       "      <td>Accessories</td>\n",
       "      <td>Bike Racks</td>\n",
       "      <td>Hitch Rack - 4-Bike</td>\n",
       "      <td>NaN</td>\n",
       "      <td>4.0</td>\n",
       "      <td>45.0</td>\n",
       "      <td>120.0</td>\n",
       "      <td>180.0</td>\n",
       "      <td>418</td>\n",
       "      <td>238.0</td>\n",
       "    </tr>\n",
       "  </tbody>\n",
       "</table>\n",
       "</div>"
      ],
      "text/plain": [
       "       Date     Month    Year  Customer ID  Customer Age       Age Group  \\\n",
       "0  11/26/13  November  2013.0      11019.0           NaN     Youth (<25)   \n",
       "1  11/26/15  November  2015.0      11019.0           NaN     Youth (<25)   \n",
       "2   3/23/14     March  2014.0      11039.0          49.0  Adults (35-64)   \n",
       "3   3/23/16     March  2016.0      11039.0          49.0  Adults (35-64)   \n",
       "4   5/15/14       May  2014.0      11046.0          47.0  Adults (35-64)   \n",
       "\n",
       "  Customer Gender    Country             State Product Category Sub Category  \\\n",
       "0               M     Canada  British Columbia      Accessories   Bike Racks   \n",
       "1               M     Canada  British Columbia      Accessories   Bike Racks   \n",
       "2               M        NaN   New South Wales      Accessories   Bike Racks   \n",
       "3               M        NaN   New South Wales      Accessories   Bike Racks   \n",
       "4               F  Australia   New South Wales      Accessories   Bike Racks   \n",
       "\n",
       "               Product  Frame Size  Order Quantity  Unit Cost  Unit Price  \\\n",
       "0  Hitch Rack - 4-Bike         NaN             8.0       45.0       120.0   \n",
       "1  Hitch Rack - 4-Bike         NaN             8.0       45.0       120.0   \n",
       "2  Hitch Rack - 4-Bike         NaN            23.0       45.0       120.0   \n",
       "3  Hitch Rack - 4-Bike         NaN            20.0       45.0       120.0   \n",
       "4  Hitch Rack - 4-Bike         NaN             4.0       45.0       120.0   \n",
       "\n",
       "     Cost  Revenue  Profit  \n",
       "0   360.0      950   590.0  \n",
       "1   360.0      950   590.0  \n",
       "2  1035.0     2401  1366.0  \n",
       "3   900.0     2088  1188.0  \n",
       "4   180.0      418   238.0  "
      ]
     },
     "execution_count": 3,
     "metadata": {},
     "output_type": "execute_result"
    }
   ],
   "source": [
    "# PRINT THE TOP FIVE DATA\n",
    "df.head()"
   ]
  },
  {
   "cell_type": "code",
   "execution_count": 4,
   "id": "baca0813",
   "metadata": {},
   "outputs": [
    {
     "data": {
      "text/plain": [
       "(113037, 19)"
      ]
     },
     "execution_count": 4,
     "metadata": {},
     "output_type": "execute_result"
    }
   ],
   "source": [
    "# DISPLAY THE NUMBER OF (ROWS, COLUMNS)\n",
    "df.shape"
   ]
  },
  {
   "cell_type": "markdown",
   "id": "1ec234cc",
   "metadata": {},
   "source": [
    "## Missing Data Handling"
   ]
  },
  {
   "cell_type": "code",
   "execution_count": 5,
   "id": "d5b1b5e3",
   "metadata": {},
   "outputs": [],
   "source": [
    "# DROP NULL-VALUED ROWS FROM THE DATAFRAME\n",
    "dropped_df = df.dropna()"
   ]
  },
  {
   "cell_type": "code",
   "execution_count": 6,
   "id": "b5192282",
   "metadata": {},
   "outputs": [
    {
     "data": {
      "text/plain": [
       "(25982, 19)"
      ]
     },
     "execution_count": 6,
     "metadata": {},
     "output_type": "execute_result"
    }
   ],
   "source": [
    "dropped_df.shape"
   ]
  },
  {
   "cell_type": "code",
   "execution_count": 7,
   "id": "12c748e3",
   "metadata": {},
   "outputs": [
    {
     "data": {
      "text/html": [
       "<div>\n",
       "<style scoped>\n",
       "    .dataframe tbody tr th:only-of-type {\n",
       "        vertical-align: middle;\n",
       "    }\n",
       "\n",
       "    .dataframe tbody tr th {\n",
       "        vertical-align: top;\n",
       "    }\n",
       "\n",
       "    .dataframe thead th {\n",
       "        text-align: right;\n",
       "    }\n",
       "</style>\n",
       "<table border=\"1\" class=\"dataframe\">\n",
       "  <thead>\n",
       "    <tr style=\"text-align: right;\">\n",
       "      <th></th>\n",
       "      <th>Date</th>\n",
       "      <th>Month</th>\n",
       "      <th>Year</th>\n",
       "      <th>Customer ID</th>\n",
       "      <th>Customer Age</th>\n",
       "      <th>Age Group</th>\n",
       "      <th>Customer Gender</th>\n",
       "      <th>Country</th>\n",
       "      <th>State</th>\n",
       "      <th>Product Category</th>\n",
       "      <th>Sub Category</th>\n",
       "      <th>Product</th>\n",
       "      <th>Frame Size</th>\n",
       "      <th>Order Quantity</th>\n",
       "      <th>Unit Cost</th>\n",
       "      <th>Unit Price</th>\n",
       "      <th>Cost</th>\n",
       "      <th>Revenue</th>\n",
       "      <th>Profit</th>\n",
       "    </tr>\n",
       "  </thead>\n",
       "  <tbody>\n",
       "    <tr>\n",
       "      <th>49304</th>\n",
       "      <td>1/28/13</td>\n",
       "      <td>January</td>\n",
       "      <td>2013.0</td>\n",
       "      <td>11000.0</td>\n",
       "      <td>31.0</td>\n",
       "      <td>Young Adults (25-34)</td>\n",
       "      <td>M</td>\n",
       "      <td>Australia</td>\n",
       "      <td>Queensland</td>\n",
       "      <td>Bikes</td>\n",
       "      <td>Mountain Bikes</td>\n",
       "      <td>Mountain-100 Silver, 38</td>\n",
       "      <td>38.0</td>\n",
       "      <td>1.0</td>\n",
       "      <td>1912.0</td>\n",
       "      <td>3400.0</td>\n",
       "      <td>1912.0</td>\n",
       "      <td>2856</td>\n",
       "      <td>944.0</td>\n",
       "    </tr>\n",
       "    <tr>\n",
       "      <th>49305</th>\n",
       "      <td>1/28/15</td>\n",
       "      <td>January</td>\n",
       "      <td>2015.0</td>\n",
       "      <td>11000.0</td>\n",
       "      <td>31.0</td>\n",
       "      <td>Young Adults (25-34)</td>\n",
       "      <td>M</td>\n",
       "      <td>Australia</td>\n",
       "      <td>Queensland</td>\n",
       "      <td>Bikes</td>\n",
       "      <td>Mountain Bikes</td>\n",
       "      <td>Mountain-100 Silver, 38</td>\n",
       "      <td>38.0</td>\n",
       "      <td>1.0</td>\n",
       "      <td>1912.0</td>\n",
       "      <td>3400.0</td>\n",
       "      <td>1912.0</td>\n",
       "      <td>2856</td>\n",
       "      <td>944.0</td>\n",
       "    </tr>\n",
       "    <tr>\n",
       "      <th>49306</th>\n",
       "      <td>7/22/13</td>\n",
       "      <td>July</td>\n",
       "      <td>2013.0</td>\n",
       "      <td>11000.0</td>\n",
       "      <td>31.0</td>\n",
       "      <td>Young Adults (25-34)</td>\n",
       "      <td>M</td>\n",
       "      <td>Australia</td>\n",
       "      <td>Queensland</td>\n",
       "      <td>Bikes</td>\n",
       "      <td>Mountain Bikes</td>\n",
       "      <td>Mountain-100 Silver, 38</td>\n",
       "      <td>38.0</td>\n",
       "      <td>1.0</td>\n",
       "      <td>1912.0</td>\n",
       "      <td>3400.0</td>\n",
       "      <td>1912.0</td>\n",
       "      <td>2856</td>\n",
       "      <td>944.0</td>\n",
       "    </tr>\n",
       "    <tr>\n",
       "      <th>49307</th>\n",
       "      <td>7/22/15</td>\n",
       "      <td>July</td>\n",
       "      <td>2015.0</td>\n",
       "      <td>11000.0</td>\n",
       "      <td>31.0</td>\n",
       "      <td>Young Adults (25-34)</td>\n",
       "      <td>M</td>\n",
       "      <td>Australia</td>\n",
       "      <td>Queensland</td>\n",
       "      <td>Bikes</td>\n",
       "      <td>Mountain Bikes</td>\n",
       "      <td>Mountain-100 Silver, 38</td>\n",
       "      <td>38.0</td>\n",
       "      <td>2.0</td>\n",
       "      <td>1912.0</td>\n",
       "      <td>3400.0</td>\n",
       "      <td>3824.0</td>\n",
       "      <td>5712</td>\n",
       "      <td>1888.0</td>\n",
       "    </tr>\n",
       "    <tr>\n",
       "      <th>49308</th>\n",
       "      <td>12/25/13</td>\n",
       "      <td>December</td>\n",
       "      <td>2013.0</td>\n",
       "      <td>11000.0</td>\n",
       "      <td>31.0</td>\n",
       "      <td>Young Adults (25-34)</td>\n",
       "      <td>M</td>\n",
       "      <td>Australia</td>\n",
       "      <td>Queensland</td>\n",
       "      <td>Bikes</td>\n",
       "      <td>Mountain Bikes</td>\n",
       "      <td>Mountain-100 Silver, 38</td>\n",
       "      <td>38.0</td>\n",
       "      <td>1.0</td>\n",
       "      <td>1912.0</td>\n",
       "      <td>3400.0</td>\n",
       "      <td>1912.0</td>\n",
       "      <td>2856</td>\n",
       "      <td>944.0</td>\n",
       "    </tr>\n",
       "  </tbody>\n",
       "</table>\n",
       "</div>"
      ],
      "text/plain": [
       "           Date     Month    Year  Customer ID  Customer Age  \\\n",
       "49304   1/28/13   January  2013.0      11000.0          31.0   \n",
       "49305   1/28/15   January  2015.0      11000.0          31.0   \n",
       "49306   7/22/13      July  2013.0      11000.0          31.0   \n",
       "49307   7/22/15      July  2015.0      11000.0          31.0   \n",
       "49308  12/25/13  December  2013.0      11000.0          31.0   \n",
       "\n",
       "                  Age Group Customer Gender    Country       State  \\\n",
       "49304  Young Adults (25-34)               M  Australia  Queensland   \n",
       "49305  Young Adults (25-34)               M  Australia  Queensland   \n",
       "49306  Young Adults (25-34)               M  Australia  Queensland   \n",
       "49307  Young Adults (25-34)               M  Australia  Queensland   \n",
       "49308  Young Adults (25-34)               M  Australia  Queensland   \n",
       "\n",
       "      Product Category    Sub Category                  Product  Frame Size  \\\n",
       "49304            Bikes  Mountain Bikes  Mountain-100 Silver, 38        38.0   \n",
       "49305            Bikes  Mountain Bikes  Mountain-100 Silver, 38        38.0   \n",
       "49306            Bikes  Mountain Bikes  Mountain-100 Silver, 38        38.0   \n",
       "49307            Bikes  Mountain Bikes  Mountain-100 Silver, 38        38.0   \n",
       "49308            Bikes  Mountain Bikes  Mountain-100 Silver, 38        38.0   \n",
       "\n",
       "       Order Quantity  Unit Cost  Unit Price    Cost  Revenue  Profit  \n",
       "49304             1.0     1912.0      3400.0  1912.0     2856   944.0  \n",
       "49305             1.0     1912.0      3400.0  1912.0     2856   944.0  \n",
       "49306             1.0     1912.0      3400.0  1912.0     2856   944.0  \n",
       "49307             2.0     1912.0      3400.0  3824.0     5712  1888.0  \n",
       "49308             1.0     1912.0      3400.0  1912.0     2856   944.0  "
      ]
     },
     "execution_count": 7,
     "metadata": {},
     "output_type": "execute_result"
    }
   ],
   "source": [
    "dropped_df.head()"
   ]
  },
  {
   "cell_type": "code",
   "execution_count": 8,
   "id": "42711f4f",
   "metadata": {},
   "outputs": [],
   "source": [
    "# REPLACE NULL-VALUED ROWS FROM THE DATAFRAME\n",
    "values = {\"Date\": \"11/26/13\", \"Month\": \"November\", \"Year\": 2013, \"Customer ID\": 110101010, \"Customer Age\": 19, 'Age Group': \"Youth(<25)\",\n",
    "       'Customer Gender': \"M\", 'Country': \"XYZ\", 'State': \"British Columbia\", 'Product Category': \"Accesories\",\n",
    "       'Sub Category': \"Bike Racks\", 'Product': \"Hitch Rack - 4-Bike\", 'Frame Size': 38.0, 'Order Quantity': 0, 'Unit Cost': 0,\n",
    "       'Unit Price': 0, 'Cost': 0, 'Revenue': 0, 'Profit': 0}\n",
    "\n",
    "replaced_df = df.fillna(values)"
   ]
  },
  {
   "cell_type": "code",
   "execution_count": 9,
   "id": "7b6ef2cb",
   "metadata": {},
   "outputs": [
    {
     "data": {
      "text/plain": [
       "(113037, 19)"
      ]
     },
     "execution_count": 9,
     "metadata": {},
     "output_type": "execute_result"
    }
   ],
   "source": [
    "replaced_df.shape"
   ]
  },
  {
   "cell_type": "code",
   "execution_count": 10,
   "id": "297948ba",
   "metadata": {},
   "outputs": [
    {
     "data": {
      "text/html": [
       "<div>\n",
       "<style scoped>\n",
       "    .dataframe tbody tr th:only-of-type {\n",
       "        vertical-align: middle;\n",
       "    }\n",
       "\n",
       "    .dataframe tbody tr th {\n",
       "        vertical-align: top;\n",
       "    }\n",
       "\n",
       "    .dataframe thead th {\n",
       "        text-align: right;\n",
       "    }\n",
       "</style>\n",
       "<table border=\"1\" class=\"dataframe\">\n",
       "  <thead>\n",
       "    <tr style=\"text-align: right;\">\n",
       "      <th></th>\n",
       "      <th>Date</th>\n",
       "      <th>Month</th>\n",
       "      <th>Year</th>\n",
       "      <th>Customer ID</th>\n",
       "      <th>Customer Age</th>\n",
       "      <th>Age Group</th>\n",
       "      <th>Customer Gender</th>\n",
       "      <th>Country</th>\n",
       "      <th>State</th>\n",
       "      <th>Product Category</th>\n",
       "      <th>Sub Category</th>\n",
       "      <th>Product</th>\n",
       "      <th>Frame Size</th>\n",
       "      <th>Order Quantity</th>\n",
       "      <th>Unit Cost</th>\n",
       "      <th>Unit Price</th>\n",
       "      <th>Cost</th>\n",
       "      <th>Revenue</th>\n",
       "      <th>Profit</th>\n",
       "    </tr>\n",
       "  </thead>\n",
       "  <tbody>\n",
       "    <tr>\n",
       "      <th>0</th>\n",
       "      <td>11/26/13</td>\n",
       "      <td>November</td>\n",
       "      <td>2013.0</td>\n",
       "      <td>11019.0</td>\n",
       "      <td>19.0</td>\n",
       "      <td>Youth (&lt;25)</td>\n",
       "      <td>M</td>\n",
       "      <td>Canada</td>\n",
       "      <td>British Columbia</td>\n",
       "      <td>Accessories</td>\n",
       "      <td>Bike Racks</td>\n",
       "      <td>Hitch Rack - 4-Bike</td>\n",
       "      <td>38.0</td>\n",
       "      <td>8.0</td>\n",
       "      <td>45.0</td>\n",
       "      <td>120.0</td>\n",
       "      <td>360.0</td>\n",
       "      <td>950</td>\n",
       "      <td>590.0</td>\n",
       "    </tr>\n",
       "    <tr>\n",
       "      <th>1</th>\n",
       "      <td>11/26/15</td>\n",
       "      <td>November</td>\n",
       "      <td>2015.0</td>\n",
       "      <td>11019.0</td>\n",
       "      <td>19.0</td>\n",
       "      <td>Youth (&lt;25)</td>\n",
       "      <td>M</td>\n",
       "      <td>Canada</td>\n",
       "      <td>British Columbia</td>\n",
       "      <td>Accessories</td>\n",
       "      <td>Bike Racks</td>\n",
       "      <td>Hitch Rack - 4-Bike</td>\n",
       "      <td>38.0</td>\n",
       "      <td>8.0</td>\n",
       "      <td>45.0</td>\n",
       "      <td>120.0</td>\n",
       "      <td>360.0</td>\n",
       "      <td>950</td>\n",
       "      <td>590.0</td>\n",
       "    </tr>\n",
       "    <tr>\n",
       "      <th>2</th>\n",
       "      <td>3/23/14</td>\n",
       "      <td>March</td>\n",
       "      <td>2014.0</td>\n",
       "      <td>11039.0</td>\n",
       "      <td>49.0</td>\n",
       "      <td>Adults (35-64)</td>\n",
       "      <td>M</td>\n",
       "      <td>XYZ</td>\n",
       "      <td>New South Wales</td>\n",
       "      <td>Accessories</td>\n",
       "      <td>Bike Racks</td>\n",
       "      <td>Hitch Rack - 4-Bike</td>\n",
       "      <td>38.0</td>\n",
       "      <td>23.0</td>\n",
       "      <td>45.0</td>\n",
       "      <td>120.0</td>\n",
       "      <td>1035.0</td>\n",
       "      <td>2401</td>\n",
       "      <td>1366.0</td>\n",
       "    </tr>\n",
       "    <tr>\n",
       "      <th>3</th>\n",
       "      <td>3/23/16</td>\n",
       "      <td>March</td>\n",
       "      <td>2016.0</td>\n",
       "      <td>11039.0</td>\n",
       "      <td>49.0</td>\n",
       "      <td>Adults (35-64)</td>\n",
       "      <td>M</td>\n",
       "      <td>XYZ</td>\n",
       "      <td>New South Wales</td>\n",
       "      <td>Accessories</td>\n",
       "      <td>Bike Racks</td>\n",
       "      <td>Hitch Rack - 4-Bike</td>\n",
       "      <td>38.0</td>\n",
       "      <td>20.0</td>\n",
       "      <td>45.0</td>\n",
       "      <td>120.0</td>\n",
       "      <td>900.0</td>\n",
       "      <td>2088</td>\n",
       "      <td>1188.0</td>\n",
       "    </tr>\n",
       "    <tr>\n",
       "      <th>4</th>\n",
       "      <td>5/15/14</td>\n",
       "      <td>May</td>\n",
       "      <td>2014.0</td>\n",
       "      <td>11046.0</td>\n",
       "      <td>47.0</td>\n",
       "      <td>Adults (35-64)</td>\n",
       "      <td>F</td>\n",
       "      <td>Australia</td>\n",
       "      <td>New South Wales</td>\n",
       "      <td>Accessories</td>\n",
       "      <td>Bike Racks</td>\n",
       "      <td>Hitch Rack - 4-Bike</td>\n",
       "      <td>38.0</td>\n",
       "      <td>4.0</td>\n",
       "      <td>45.0</td>\n",
       "      <td>120.0</td>\n",
       "      <td>180.0</td>\n",
       "      <td>418</td>\n",
       "      <td>238.0</td>\n",
       "    </tr>\n",
       "  </tbody>\n",
       "</table>\n",
       "</div>"
      ],
      "text/plain": [
       "       Date     Month    Year  Customer ID  Customer Age       Age Group  \\\n",
       "0  11/26/13  November  2013.0      11019.0          19.0     Youth (<25)   \n",
       "1  11/26/15  November  2015.0      11019.0          19.0     Youth (<25)   \n",
       "2   3/23/14     March  2014.0      11039.0          49.0  Adults (35-64)   \n",
       "3   3/23/16     March  2016.0      11039.0          49.0  Adults (35-64)   \n",
       "4   5/15/14       May  2014.0      11046.0          47.0  Adults (35-64)   \n",
       "\n",
       "  Customer Gender    Country             State Product Category Sub Category  \\\n",
       "0               M     Canada  British Columbia      Accessories   Bike Racks   \n",
       "1               M     Canada  British Columbia      Accessories   Bike Racks   \n",
       "2               M        XYZ   New South Wales      Accessories   Bike Racks   \n",
       "3               M        XYZ   New South Wales      Accessories   Bike Racks   \n",
       "4               F  Australia   New South Wales      Accessories   Bike Racks   \n",
       "\n",
       "               Product  Frame Size  Order Quantity  Unit Cost  Unit Price  \\\n",
       "0  Hitch Rack - 4-Bike        38.0             8.0       45.0       120.0   \n",
       "1  Hitch Rack - 4-Bike        38.0             8.0       45.0       120.0   \n",
       "2  Hitch Rack - 4-Bike        38.0            23.0       45.0       120.0   \n",
       "3  Hitch Rack - 4-Bike        38.0            20.0       45.0       120.0   \n",
       "4  Hitch Rack - 4-Bike        38.0             4.0       45.0       120.0   \n",
       "\n",
       "     Cost  Revenue  Profit  \n",
       "0   360.0      950   590.0  \n",
       "1   360.0      950   590.0  \n",
       "2  1035.0     2401  1366.0  \n",
       "3   900.0     2088  1188.0  \n",
       "4   180.0      418   238.0  "
      ]
     },
     "execution_count": 10,
     "metadata": {},
     "output_type": "execute_result"
    }
   ],
   "source": [
    "replaced_df.head()"
   ]
  },
  {
   "cell_type": "markdown",
   "id": "ed79e2ed",
   "metadata": {},
   "source": [
    "## Replace Categorical Data with Number Data"
   ]
  },
  {
   "cell_type": "code",
   "execution_count": 16,
   "id": "cef365cf",
   "metadata": {},
   "outputs": [
    {
     "data": {
      "text/plain": [
       "49304     1\n",
       "49305     1\n",
       "49306     1\n",
       "49307     1\n",
       "49308     1\n",
       "         ..\n",
       "112067    2\n",
       "112068    2\n",
       "112069    2\n",
       "112070    2\n",
       "112071    2\n",
       "Name: Customer Gender, Length: 25982, dtype: int64"
      ]
     },
     "execution_count": 16,
     "metadata": {},
     "output_type": "execute_result"
    }
   ],
   "source": [
    "# MANUAL\n",
    "categories = ['M', 'F']\n",
    "values = [1, 2]\n",
    "\n",
    "# dropped_df = dropped_df['Customer Gender'].replace(to_replace=categories, value=values, inplace=False)\n",
    "\n",
    "# INPLACE REPLACE\n",
    "# inplace=True -> replace without creating a new variable (update existing variable)\n",
    "# inplace=False -> replace and save to a new variable (leave the original variable untouched)\n",
    "# dropped_df['Customer Gender'].replace(to_replace=categories, value=values, inplace=True)\n",
    "\n",
    "\n",
    "dropped_df"
   ]
  },
  {
   "cell_type": "code",
   "execution_count": null,
   "id": "2098a2fa",
   "metadata": {},
   "outputs": [],
   "source": [
    "# GET UNIQUE VALUES FROM A COLUMN\n",
    "df.Country.unique()"
   ]
  },
  {
   "cell_type": "code",
   "execution_count": null,
   "id": "7cdfaeee",
   "metadata": {
    "scrolled": true
   },
   "outputs": [],
   "source": [
    "# GET THE NUMBER OF UNIQUE VALUES FROM ABOVE\n",
    "unique_countries = len(df.Country.unique())"
   ]
  },
  {
   "cell_type": "code",
   "execution_count": null,
   "id": "a03c0335",
   "metadata": {},
   "outputs": [],
   "source": [
    "# REPLACE VALUES DYNAMICALLY\n",
    "categories = df.Country.unique()  # ['Canada', 'nan', 'Australia', 'United States', 'Germany', 'France', 'United Kingdom']\n",
    "values = range(len(df.Country.unique()))  # [0, 1, 2, 3, 4, 5, 6]\n",
    "# len(df.Country.unique()) -> returns 7\n",
    "# range(len(df.Country.unique())) -> returns the range of 7 elements [0, 1, 2, 3, 4, 5, 6]\n",
    "\n",
    "df['Country'].replace(to_replace=categories, value=values, inplace=True)\n",
    "df.head"
   ]
  },
  {
   "cell_type": "markdown",
   "id": "38ef0eb3",
   "metadata": {},
   "source": [
    "## Basic Statistic Analytics"
   ]
  },
  {
   "cell_type": "code",
   "execution_count": null,
   "id": "20b41185",
   "metadata": {},
   "outputs": [],
   "source": [
    "dropped_df.Profit.mean()"
   ]
  },
  {
   "cell_type": "code",
   "execution_count": null,
   "id": "30028a19",
   "metadata": {},
   "outputs": [],
   "source": [
    "dropped_df.Revenue.min()"
   ]
  },
  {
   "cell_type": "code",
   "execution_count": null,
   "id": "0a06cb74",
   "metadata": {},
   "outputs": [],
   "source": [
    "dropped_df.Revenue.max()"
   ]
  },
  {
   "cell_type": "code",
   "execution_count": null,
   "id": "3fd34b5b",
   "metadata": {},
   "outputs": [],
   "source": [
    "dropped_df.Revenue.median()"
   ]
  },
  {
   "cell_type": "code",
   "execution_count": null,
   "id": "9346fbeb",
   "metadata": {},
   "outputs": [],
   "source": [
    "dropped_df['Unit Price'].sum()"
   ]
  },
  {
   "cell_type": "code",
   "execution_count": null,
   "id": "b87ce7af",
   "metadata": {},
   "outputs": [],
   "source": [
    "dropped_df.Profit.std()"
   ]
  },
  {
   "cell_type": "markdown",
   "id": "03874650",
   "metadata": {},
   "source": [
    "## Basic Data Manipulations"
   ]
  },
  {
   "cell_type": "code",
   "execution_count": null,
   "id": "9ab042b5",
   "metadata": {},
   "outputs": [],
   "source": [
    "dropped_df"
   ]
  },
  {
   "cell_type": "code",
   "execution_count": null,
   "id": "d45f1b48",
   "metadata": {},
   "outputs": [],
   "source": [
    "df.columns"
   ]
  },
  {
   "cell_type": "code",
   "execution_count": null,
   "id": "d8bd7791",
   "metadata": {},
   "outputs": [],
   "source": [
    "df[\"Product Category\"].unique()"
   ]
  },
  {
   "cell_type": "markdown",
   "id": "382db209",
   "metadata": {},
   "source": [
    "### Count the profit per category!"
   ]
  },
  {
   "cell_type": "code",
   "execution_count": null,
   "id": "76bfea2f",
   "metadata": {},
   "outputs": [],
   "source": [
    "df.drop(columns=['Frame Size']).groupby(['Product Category']).sum()"
   ]
  },
  {
   "cell_type": "markdown",
   "id": "8e6c7c9e",
   "metadata": {},
   "source": [
    "### Which clientele brings more revenue? Males/Females?"
   ]
  },
  {
   "cell_type": "code",
   "execution_count": null,
   "id": "5f9a2f69",
   "metadata": {},
   "outputs": [],
   "source": [
    "df.groupby([\"Age Group\", \"Customer Gender\"]).count()[\"Revenue\"]"
   ]
  },
  {
   "cell_type": "markdown",
   "id": "11e92dcf",
   "metadata": {},
   "source": [
    "### How much profit monthly do we get?"
   ]
  },
  {
   "cell_type": "code",
   "execution_count": null,
   "id": "4cad8ba9",
   "metadata": {},
   "outputs": [],
   "source": [
    "df.groupby([\"Month\",\"Year\"]).sum().Profit.max()"
   ]
  }
 ],
 "metadata": {
  "kernelspec": {
   "display_name": "Python 3",
   "language": "python",
   "name": "python3"
  },
  "language_info": {
   "codemirror_mode": {
    "name": "ipython",
    "version": 3
   },
   "file_extension": ".py",
   "mimetype": "text/x-python",
   "name": "python",
   "nbconvert_exporter": "python",
   "pygments_lexer": "ipython3",
   "version": "3.8.5"
  }
 },
 "nbformat": 4,
 "nbformat_minor": 5
}
