{
 "cells": [
  {
   "cell_type": "markdown",
   "id": "e8174129",
   "metadata": {},
   "source": [
    "# Week 5 Demo"
   ]
  },
  {
   "cell_type": "markdown",
   "id": "581e9122",
   "metadata": {},
   "source": [
    "## Data Import"
   ]
  },
  {
   "cell_type": "code",
   "execution_count": 8,
   "id": "0e1f9522",
   "metadata": {},
   "outputs": [],
   "source": [
    "import pandas as pd"
   ]
  },
  {
   "cell_type": "code",
   "execution_count": 9,
   "id": "e05e1dc0",
   "metadata": {},
   "outputs": [
    {
     "data": {
      "text/html": [
       "<div>\n",
       "<style scoped>\n",
       "    .dataframe tbody tr th:only-of-type {\n",
       "        vertical-align: middle;\n",
       "    }\n",
       "\n",
       "    .dataframe tbody tr th {\n",
       "        vertical-align: top;\n",
       "    }\n",
       "\n",
       "    .dataframe thead th {\n",
       "        text-align: right;\n",
       "    }\n",
       "</style>\n",
       "<table border=\"1\" class=\"dataframe\">\n",
       "  <thead>\n",
       "    <tr style=\"text-align: right;\">\n",
       "      <th></th>\n",
       "      <th>Date</th>\n",
       "      <th>Month</th>\n",
       "      <th>Year</th>\n",
       "      <th>Customer ID</th>\n",
       "      <th>Customer Age</th>\n",
       "      <th>Age Group</th>\n",
       "      <th>Customer Gender</th>\n",
       "      <th>Country</th>\n",
       "      <th>State</th>\n",
       "      <th>Product Category</th>\n",
       "      <th>Sub Category</th>\n",
       "      <th>Product</th>\n",
       "      <th>Frame Size</th>\n",
       "      <th>Order Quantity</th>\n",
       "      <th>Unit Cost</th>\n",
       "      <th>Unit Price</th>\n",
       "      <th>Cost</th>\n",
       "      <th>Revenue</th>\n",
       "      <th>Profit</th>\n",
       "    </tr>\n",
       "  </thead>\n",
       "  <tbody>\n",
       "    <tr>\n",
       "      <th>0</th>\n",
       "      <td>11/26/13</td>\n",
       "      <td>November</td>\n",
       "      <td>2013.0</td>\n",
       "      <td>11019.0</td>\n",
       "      <td>NaN</td>\n",
       "      <td>Youth (&lt;25)</td>\n",
       "      <td>M</td>\n",
       "      <td>Canada</td>\n",
       "      <td>British Columbia</td>\n",
       "      <td>Accessories</td>\n",
       "      <td>Bike Racks</td>\n",
       "      <td>Hitch Rack - 4-Bike</td>\n",
       "      <td>NaN</td>\n",
       "      <td>8.0</td>\n",
       "      <td>45.0</td>\n",
       "      <td>120.0</td>\n",
       "      <td>360.0</td>\n",
       "      <td>950</td>\n",
       "      <td>590.0</td>\n",
       "    </tr>\n",
       "    <tr>\n",
       "      <th>1</th>\n",
       "      <td>11/26/15</td>\n",
       "      <td>November</td>\n",
       "      <td>2015.0</td>\n",
       "      <td>11019.0</td>\n",
       "      <td>NaN</td>\n",
       "      <td>Youth (&lt;25)</td>\n",
       "      <td>M</td>\n",
       "      <td>Canada</td>\n",
       "      <td>British Columbia</td>\n",
       "      <td>Accessories</td>\n",
       "      <td>Bike Racks</td>\n",
       "      <td>Hitch Rack - 4-Bike</td>\n",
       "      <td>NaN</td>\n",
       "      <td>8.0</td>\n",
       "      <td>45.0</td>\n",
       "      <td>120.0</td>\n",
       "      <td>360.0</td>\n",
       "      <td>950</td>\n",
       "      <td>590.0</td>\n",
       "    </tr>\n",
       "    <tr>\n",
       "      <th>2</th>\n",
       "      <td>3/23/14</td>\n",
       "      <td>March</td>\n",
       "      <td>2014.0</td>\n",
       "      <td>11039.0</td>\n",
       "      <td>49.0</td>\n",
       "      <td>Adults (35-64)</td>\n",
       "      <td>M</td>\n",
       "      <td>NaN</td>\n",
       "      <td>New South Wales</td>\n",
       "      <td>Accessories</td>\n",
       "      <td>Bike Racks</td>\n",
       "      <td>Hitch Rack - 4-Bike</td>\n",
       "      <td>NaN</td>\n",
       "      <td>23.0</td>\n",
       "      <td>45.0</td>\n",
       "      <td>120.0</td>\n",
       "      <td>1035.0</td>\n",
       "      <td>2401</td>\n",
       "      <td>1366.0</td>\n",
       "    </tr>\n",
       "    <tr>\n",
       "      <th>3</th>\n",
       "      <td>3/23/16</td>\n",
       "      <td>March</td>\n",
       "      <td>2016.0</td>\n",
       "      <td>11039.0</td>\n",
       "      <td>49.0</td>\n",
       "      <td>Adults (35-64)</td>\n",
       "      <td>M</td>\n",
       "      <td>NaN</td>\n",
       "      <td>New South Wales</td>\n",
       "      <td>Accessories</td>\n",
       "      <td>Bike Racks</td>\n",
       "      <td>Hitch Rack - 4-Bike</td>\n",
       "      <td>NaN</td>\n",
       "      <td>20.0</td>\n",
       "      <td>45.0</td>\n",
       "      <td>120.0</td>\n",
       "      <td>900.0</td>\n",
       "      <td>2088</td>\n",
       "      <td>1188.0</td>\n",
       "    </tr>\n",
       "    <tr>\n",
       "      <th>4</th>\n",
       "      <td>5/15/14</td>\n",
       "      <td>May</td>\n",
       "      <td>2014.0</td>\n",
       "      <td>11046.0</td>\n",
       "      <td>47.0</td>\n",
       "      <td>Adults (35-64)</td>\n",
       "      <td>F</td>\n",
       "      <td>Australia</td>\n",
       "      <td>New South Wales</td>\n",
       "      <td>Accessories</td>\n",
       "      <td>Bike Racks</td>\n",
       "      <td>Hitch Rack - 4-Bike</td>\n",
       "      <td>NaN</td>\n",
       "      <td>4.0</td>\n",
       "      <td>45.0</td>\n",
       "      <td>120.0</td>\n",
       "      <td>180.0</td>\n",
       "      <td>418</td>\n",
       "      <td>238.0</td>\n",
       "    </tr>\n",
       "  </tbody>\n",
       "</table>\n",
       "</div>"
      ],
      "text/plain": [
       "       Date     Month    Year  Customer ID  Customer Age       Age Group  \\\n",
       "0  11/26/13  November  2013.0      11019.0           NaN     Youth (<25)   \n",
       "1  11/26/15  November  2015.0      11019.0           NaN     Youth (<25)   \n",
       "2   3/23/14     March  2014.0      11039.0          49.0  Adults (35-64)   \n",
       "3   3/23/16     March  2016.0      11039.0          49.0  Adults (35-64)   \n",
       "4   5/15/14       May  2014.0      11046.0          47.0  Adults (35-64)   \n",
       "\n",
       "  Customer Gender    Country             State Product Category Sub Category  \\\n",
       "0               M     Canada  British Columbia      Accessories   Bike Racks   \n",
       "1               M     Canada  British Columbia      Accessories   Bike Racks   \n",
       "2               M        NaN   New South Wales      Accessories   Bike Racks   \n",
       "3               M        NaN   New South Wales      Accessories   Bike Racks   \n",
       "4               F  Australia   New South Wales      Accessories   Bike Racks   \n",
       "\n",
       "               Product  Frame Size  Order Quantity  Unit Cost  Unit Price  \\\n",
       "0  Hitch Rack - 4-Bike         NaN             8.0       45.0       120.0   \n",
       "1  Hitch Rack - 4-Bike         NaN             8.0       45.0       120.0   \n",
       "2  Hitch Rack - 4-Bike         NaN            23.0       45.0       120.0   \n",
       "3  Hitch Rack - 4-Bike         NaN            20.0       45.0       120.0   \n",
       "4  Hitch Rack - 4-Bike         NaN             4.0       45.0       120.0   \n",
       "\n",
       "     Cost  Revenue  Profit  \n",
       "0   360.0      950   590.0  \n",
       "1   360.0      950   590.0  \n",
       "2  1035.0     2401  1366.0  \n",
       "3   900.0     2088  1188.0  \n",
       "4   180.0      418   238.0  "
      ]
     },
     "execution_count": 9,
     "metadata": {},
     "output_type": "execute_result"
    }
   ],
   "source": [
    "# READ THE CSV FILE\n",
    "df = pd.read_csv(\"data.csv\")\n",
    "\n",
    "# PRINT THE TOP FIVE DATA\n",
    "df.head()"
   ]
  },
  {
   "cell_type": "code",
   "execution_count": 92,
   "id": "baca0813",
   "metadata": {},
   "outputs": [
    {
     "data": {
      "text/plain": [
       "(113037, 19)"
      ]
     },
     "execution_count": 92,
     "metadata": {},
     "output_type": "execute_result"
    }
   ],
   "source": [
    "# DISPLAY THE NUMBER OF (ROWS, COLUMNS)\n",
    "df.shape"
   ]
  },
  {
   "cell_type": "markdown",
   "id": "1ec234cc",
   "metadata": {},
   "source": [
    "## Missing Data Handling"
   ]
  },
  {
   "cell_type": "code",
   "execution_count": 42,
   "id": "d5b1b5e3",
   "metadata": {},
   "outputs": [
    {
     "data": {
      "text/plain": [
       "(25982, 19)"
      ]
     },
     "execution_count": 42,
     "metadata": {},
     "output_type": "execute_result"
    }
   ],
   "source": [
    "# DROP NULL-VALUED ROWS FROM THE DATAFRAME\n",
    "dropped_df = df.dropna()\n",
    "dropped_df.shape"
   ]
  },
  {
   "cell_type": "code",
   "execution_count": 43,
   "id": "42711f4f",
   "metadata": {},
   "outputs": [
    {
     "data": {
      "text/plain": [
       "(113037, 19)"
      ]
     },
     "execution_count": 43,
     "metadata": {},
     "output_type": "execute_result"
    }
   ],
   "source": [
    "values = {\"Date\": \"11/26/13\", \"Month\": \"November\", \"Year\": 2013, \"Customer ID\": 110101010, \"Customer Age\": 19, 'Age Group': \"Youth(<25)\",\n",
    "       'Customer Gender': \"M\", 'Country': \"Canada\", 'State': \"British Columbia\", 'Product Category': \"Accesories\",\n",
    "       'Sub Category': \"Bike Racks\", 'Product': \"Hitch Rack - 4-Bike\", 'Frame Size': 38.0, 'Order Quantity': 0, 'Unit Cost': 0,\n",
    "       'Unit Price': 0, 'Cost': 0, 'Revenue': 0, 'Profit': 0}\n",
    "\n",
    "replaced_df = df.fillna(values)\n",
    "replaced_df.shape"
   ]
  },
  {
   "cell_type": "markdown",
   "id": "24c3b324",
   "metadata": {},
   "source": [
    "## Replace Categorical Data with Number Data"
   ]
  },
  {
   "cell_type": "code",
   "execution_count": 45,
   "id": "cef365cf",
   "metadata": {},
   "outputs": [
    {
     "data": {
      "text/plain": [
       "<bound method NDFrame.head of             Date     Month    Year  Customer ID  Customer Age       Age Group  \\\n",
       "0       11/26/13  November  2013.0      11019.0           NaN     Youth (<25)   \n",
       "1       11/26/15  November  2015.0      11019.0           NaN     Youth (<25)   \n",
       "2        3/23/14     March  2014.0      11039.0          49.0  Adults (35-64)   \n",
       "3        3/23/16     March  2016.0      11039.0          49.0  Adults (35-64)   \n",
       "4        5/15/14       May  2014.0      11046.0          47.0  Adults (35-64)   \n",
       "...          ...       ...     ...          ...           ...             ...   \n",
       "113032    4/2/14     April  2014.0      29462.0          18.0     Youth (<25)   \n",
       "113033    4/2/16     April  2016.0      29462.0          18.0     Youth (<25)   \n",
       "113034    3/4/14     March  2014.0      29472.0          37.0  Adults (35-64)   \n",
       "113035    3/4/16     March  2016.0      29472.0          37.0  Adults (35-64)   \n",
       "113036     Total       NaN     NaN          NaN           NaN             NaN   \n",
       "\n",
       "        Customer Gender    Country             State Product Category  \\\n",
       "0                   1.0     Canada  British Columbia      Accessories   \n",
       "1                   1.0     Canada  British Columbia      Accessories   \n",
       "2                   1.0        NaN   New South Wales      Accessories   \n",
       "3                   1.0        NaN   New South Wales      Accessories   \n",
       "4                   2.0  Australia   New South Wales      Accessories   \n",
       "...                 ...        ...               ...              ...   \n",
       "113032              1.0  Australia        Queensland         Clothing   \n",
       "113033              1.0  Australia        Queensland         Clothing   \n",
       "113034              2.0     France     Seine (Paris)         Clothing   \n",
       "113035              2.0     France     Seine (Paris)         Clothing   \n",
       "113036              NaN        NaN               NaN              NaN   \n",
       "\n",
       "       Sub Category              Product  Frame Size  Order Quantity  \\\n",
       "0        Bike Racks  Hitch Rack - 4-Bike         NaN             8.0   \n",
       "1        Bike Racks  Hitch Rack - 4-Bike         NaN             8.0   \n",
       "2        Bike Racks  Hitch Rack - 4-Bike         NaN            23.0   \n",
       "3        Bike Racks  Hitch Rack - 4-Bike         NaN            20.0   \n",
       "4        Bike Racks  Hitch Rack - 4-Bike         NaN             4.0   \n",
       "...             ...                  ...         ...             ...   \n",
       "113032        Vests      Classic Vest, M         NaN            22.0   \n",
       "113033        Vests      Classic Vest, M         NaN            22.0   \n",
       "113034        Vests      Classic Vest, L         NaN            24.0   \n",
       "113035        Vests      Classic Vest, L         NaN            23.0   \n",
       "113036          NaN                  NaN         NaN             NaN   \n",
       "\n",
       "         Unit Cost  Unit Price    Cost   Revenue  Profit  \n",
       "0        45.000000       120.0   360.0       950   590.0  \n",
       "1        45.000000       120.0   360.0       950   590.0  \n",
       "2        45.000000       120.0  1035.0      2401  1366.0  \n",
       "3        45.000000       120.0   900.0      2088  1188.0  \n",
       "4        45.000000       120.0   180.0       418   238.0  \n",
       "...            ...         ...     ...       ...     ...  \n",
       "113032   24.000000        64.0   528.0      1183   655.0  \n",
       "113033   24.000000        64.0   528.0      1183   655.0  \n",
       "113034   24.000000        64.0   576.0      1260   684.0  \n",
       "113035   24.000000        64.0   552.0      1207   655.0  \n",
       "113036  267.296366         NaN     NaN  85271008     NaN  \n",
       "\n",
       "[113037 rows x 19 columns]>"
      ]
     },
     "execution_count": 45,
     "metadata": {},
     "output_type": "execute_result"
    }
   ],
   "source": [
    "# MANUAL\n",
    "categories = ['M', 'F']\n",
    "values = [1, 2]\n",
    "\n",
    "df['Customer Gender'].replace(to_replace=categories, value=values, inplace=True)\n",
    "df.head"
   ]
  },
  {
   "cell_type": "code",
   "execution_count": 10,
   "id": "2098a2fa",
   "metadata": {},
   "outputs": [
    {
     "data": {
      "text/plain": [
       "array(['Canada', nan, 'Australia', 'United States', 'Germany', 'France',\n",
       "       'United Kingdom'], dtype=object)"
      ]
     },
     "execution_count": 10,
     "metadata": {},
     "output_type": "execute_result"
    }
   ],
   "source": [
    "df.Country.unique()"
   ]
  },
  {
   "cell_type": "code",
   "execution_count": 15,
   "id": "7cdfaeee",
   "metadata": {
    "scrolled": true
   },
   "outputs": [],
   "source": [
    "unique_countries = len(df.Country.unique())"
   ]
  },
  {
   "cell_type": "code",
   "execution_count": 18,
   "id": "aa0e96c9",
   "metadata": {},
   "outputs": [
    {
     "data": {
      "text/plain": [
       "[0, 1, 2, 3, 4, 5, 6]"
      ]
     },
     "execution_count": 18,
     "metadata": {},
     "output_type": "execute_result"
    }
   ],
   "source": [
    "list(range(unique_countries))"
   ]
  },
  {
   "cell_type": "code",
   "execution_count": 20,
   "id": "a03c0335",
   "metadata": {},
   "outputs": [
    {
     "data": {
      "text/plain": [
       "<bound method NDFrame.head of             Date     Month    Year  Customer ID  Customer Age       Age Group  \\\n",
       "0       11/26/13  November  2013.0      11019.0           NaN     Youth (<25)   \n",
       "1       11/26/15  November  2015.0      11019.0           NaN     Youth (<25)   \n",
       "2        3/23/14     March  2014.0      11039.0          49.0  Adults (35-64)   \n",
       "3        3/23/16     March  2016.0      11039.0          49.0  Adults (35-64)   \n",
       "4        5/15/14       May  2014.0      11046.0          47.0  Adults (35-64)   \n",
       "...          ...       ...     ...          ...           ...             ...   \n",
       "113032    4/2/14     April  2014.0      29462.0          18.0     Youth (<25)   \n",
       "113033    4/2/16     April  2016.0      29462.0          18.0     Youth (<25)   \n",
       "113034    3/4/14     March  2014.0      29472.0          37.0  Adults (35-64)   \n",
       "113035    3/4/16     March  2016.0      29472.0          37.0  Adults (35-64)   \n",
       "113036     Total       NaN     NaN          NaN           NaN             NaN   \n",
       "\n",
       "       Customer Gender  Country             State Product Category  \\\n",
       "0                    M        0  British Columbia      Accessories   \n",
       "1                    M        0  British Columbia      Accessories   \n",
       "2                    M        1   New South Wales      Accessories   \n",
       "3                    M        1   New South Wales      Accessories   \n",
       "4                    F        2   New South Wales      Accessories   \n",
       "...                ...      ...               ...              ...   \n",
       "113032               M        2        Queensland         Clothing   \n",
       "113033               M        2        Queensland         Clothing   \n",
       "113034               F        5     Seine (Paris)         Clothing   \n",
       "113035               F        5     Seine (Paris)         Clothing   \n",
       "113036             NaN        1               NaN              NaN   \n",
       "\n",
       "       Sub Category              Product  Frame Size  Order Quantity  \\\n",
       "0        Bike Racks  Hitch Rack - 4-Bike         NaN             8.0   \n",
       "1        Bike Racks  Hitch Rack - 4-Bike         NaN             8.0   \n",
       "2        Bike Racks  Hitch Rack - 4-Bike         NaN            23.0   \n",
       "3        Bike Racks  Hitch Rack - 4-Bike         NaN            20.0   \n",
       "4        Bike Racks  Hitch Rack - 4-Bike         NaN             4.0   \n",
       "...             ...                  ...         ...             ...   \n",
       "113032        Vests      Classic Vest, M         NaN            22.0   \n",
       "113033        Vests      Classic Vest, M         NaN            22.0   \n",
       "113034        Vests      Classic Vest, L         NaN            24.0   \n",
       "113035        Vests      Classic Vest, L         NaN            23.0   \n",
       "113036          NaN                  NaN         NaN             NaN   \n",
       "\n",
       "         Unit Cost  Unit Price    Cost   Revenue  Profit  \n",
       "0        45.000000       120.0   360.0       950   590.0  \n",
       "1        45.000000       120.0   360.0       950   590.0  \n",
       "2        45.000000       120.0  1035.0      2401  1366.0  \n",
       "3        45.000000       120.0   900.0      2088  1188.0  \n",
       "4        45.000000       120.0   180.0       418   238.0  \n",
       "...            ...         ...     ...       ...     ...  \n",
       "113032   24.000000        64.0   528.0      1183   655.0  \n",
       "113033   24.000000        64.0   528.0      1183   655.0  \n",
       "113034   24.000000        64.0   576.0      1260   684.0  \n",
       "113035   24.000000        64.0   552.0      1207   655.0  \n",
       "113036  267.296366         NaN     NaN  85271008     NaN  \n",
       "\n",
       "[113037 rows x 19 columns]>"
      ]
     },
     "execution_count": 20,
     "metadata": {},
     "output_type": "execute_result"
    }
   ],
   "source": [
    "# AUTO\n",
    "categories = df.Country.unique()  # ['Canada', 'nan', 'Australia', 'United States', 'Germany', 'France', 'United Kingdom']\n",
    "values = range(len(df.Country.unique()))  # [0, 1, 2, 3, 4, 5, 6]\n",
    "\n",
    "df['Country'].replace(to_replace=categories, value=values, inplace=True)\n",
    "df.head"
   ]
  },
  {
   "cell_type": "markdown",
   "id": "38ef0eb3",
   "metadata": {},
   "source": [
    "## Basic Staticsic Analytics"
   ]
  },
  {
   "cell_type": "code",
   "execution_count": 60,
   "id": "20b41185",
   "metadata": {},
   "outputs": [
    {
     "data": {
      "text/plain": [
       "285.0516649562971"
      ]
     },
     "execution_count": 60,
     "metadata": {},
     "output_type": "execute_result"
    }
   ],
   "source": [
    "df.Profit.mean()"
   ]
  },
  {
   "cell_type": "code",
   "execution_count": 61,
   "id": "30028a19",
   "metadata": {},
   "outputs": [
    {
     "data": {
      "text/plain": [
       "-30.0"
      ]
     },
     "execution_count": 61,
     "metadata": {},
     "output_type": "execute_result"
    }
   ],
   "source": [
    "df.Profit.min()"
   ]
  },
  {
   "cell_type": "code",
   "execution_count": 62,
   "id": "0a06cb74",
   "metadata": {},
   "outputs": [
    {
     "data": {
      "text/plain": [
       "15096.0"
      ]
     },
     "execution_count": 62,
     "metadata": {},
     "output_type": "execute_result"
    }
   ],
   "source": [
    "df.Profit.max()"
   ]
  },
  {
   "cell_type": "code",
   "execution_count": 63,
   "id": "9346fbeb",
   "metadata": {},
   "outputs": [
    {
     "data": {
      "text/plain": [
       "32221100.0"
      ]
     },
     "execution_count": 63,
     "metadata": {},
     "output_type": "execute_result"
    }
   ],
   "source": [
    "df.Profit.sum()"
   ]
  },
  {
   "cell_type": "code",
   "execution_count": 64,
   "id": "b87ce7af",
   "metadata": {},
   "outputs": [
    {
     "data": {
      "text/plain": [
       "453.88744305571424"
      ]
     },
     "execution_count": 64,
     "metadata": {},
     "output_type": "execute_result"
    }
   ],
   "source": [
    "df.Profit.std()"
   ]
  },
  {
   "cell_type": "markdown",
   "id": "03874650",
   "metadata": {},
   "source": [
    "## Basic Data Manipulations"
   ]
  },
  {
   "cell_type": "code",
   "execution_count": 65,
   "id": "9ab042b5",
   "metadata": {},
   "outputs": [
    {
     "data": {
      "text/plain": [
       "Index(['Date', 'Month', 'Year', 'Customer ID', 'Customer Age', 'Age Group',\n",
       "       'Customer Gender', 'Country', 'State', 'Product Category',\n",
       "       'Sub Category', 'Product', 'Frame Size', 'Order Quantity', 'Unit Cost',\n",
       "       'Unit Price', 'Cost', 'Revenue', 'Profit'],\n",
       "      dtype='object')"
      ]
     },
     "execution_count": 65,
     "metadata": {},
     "output_type": "execute_result"
    }
   ],
   "source": [
    "df.columns"
   ]
  },
  {
   "cell_type": "code",
   "execution_count": 68,
   "id": "d8bd7791",
   "metadata": {},
   "outputs": [
    {
     "data": {
      "text/plain": [
       "array(['Accessories', 'Clothing', 'Bikes', nan], dtype=object)"
      ]
     },
     "execution_count": 68,
     "metadata": {},
     "output_type": "execute_result"
    }
   ],
   "source": [
    "df[\"Product Category\"].unique()"
   ]
  },
  {
   "cell_type": "markdown",
   "id": "382db209",
   "metadata": {},
   "source": [
    "### Count the profit per category!"
   ]
  },
  {
   "cell_type": "code",
   "execution_count": 82,
   "id": "76bfea2f",
   "metadata": {},
   "outputs": [
    {
     "data": {
      "text/html": [
       "<div>\n",
       "<style scoped>\n",
       "    .dataframe tbody tr th:only-of-type {\n",
       "        vertical-align: middle;\n",
       "    }\n",
       "\n",
       "    .dataframe tbody tr th {\n",
       "        vertical-align: top;\n",
       "    }\n",
       "\n",
       "    .dataframe thead th {\n",
       "        text-align: right;\n",
       "    }\n",
       "</style>\n",
       "<table border=\"1\" class=\"dataframe\">\n",
       "  <thead>\n",
       "    <tr style=\"text-align: right;\">\n",
       "      <th></th>\n",
       "      <th>Year</th>\n",
       "      <th>Customer ID</th>\n",
       "      <th>Customer Age</th>\n",
       "      <th>Customer Gender</th>\n",
       "      <th>Country</th>\n",
       "      <th>Order Quantity</th>\n",
       "      <th>Unit Cost</th>\n",
       "      <th>Unit Price</th>\n",
       "      <th>Cost</th>\n",
       "      <th>Revenue</th>\n",
       "      <th>Profit</th>\n",
       "    </tr>\n",
       "    <tr>\n",
       "      <th>Product Category</th>\n",
       "      <th></th>\n",
       "      <th></th>\n",
       "      <th></th>\n",
       "      <th></th>\n",
       "      <th></th>\n",
       "      <th></th>\n",
       "      <th></th>\n",
       "      <th></th>\n",
       "      <th></th>\n",
       "      <th></th>\n",
       "      <th></th>\n",
       "    </tr>\n",
       "  </thead>\n",
       "  <tbody>\n",
       "    <tr>\n",
       "      <th>Accessories</th>\n",
       "      <td>141261750.0</td>\n",
       "      <td>1.353679e+09</td>\n",
       "      <td>2530188.0</td>\n",
       "      <td>103964.0</td>\n",
       "      <td>490840</td>\n",
       "      <td>1054162.0</td>\n",
       "      <td>443530.0</td>\n",
       "      <td>1185400.0</td>\n",
       "      <td>6255615.0</td>\n",
       "      <td>15117992</td>\n",
       "      <td>8862377.0</td>\n",
       "    </tr>\n",
       "    <tr>\n",
       "      <th>Bikes</th>\n",
       "      <td>52323571.0</td>\n",
       "      <td>4.990375e+08</td>\n",
       "      <td>918418.0</td>\n",
       "      <td>38834.0</td>\n",
       "      <td>181874</td>\n",
       "      <td>36411.0</td>\n",
       "      <td>29400230.0</td>\n",
       "      <td>49395368.0</td>\n",
       "      <td>41262858.0</td>\n",
       "      <td>61782134</td>\n",
       "      <td>20519276.0</td>\n",
       "    </tr>\n",
       "    <tr>\n",
       "      <th>Clothing</th>\n",
       "      <td>34114594.0</td>\n",
       "      <td>3.207251e+08</td>\n",
       "      <td>611520.0</td>\n",
       "      <td>24962.0</td>\n",
       "      <td>118538</td>\n",
       "      <td>254743.0</td>\n",
       "      <td>370352.0</td>\n",
       "      <td>617580.0</td>\n",
       "      <td>5531435.0</td>\n",
       "      <td>8370882</td>\n",
       "      <td>2839447.0</td>\n",
       "    </tr>\n",
       "  </tbody>\n",
       "</table>\n",
       "</div>"
      ],
      "text/plain": [
       "                         Year   Customer ID  Customer Age  Customer Gender  \\\n",
       "Product Category                                                             \n",
       "Accessories       141261750.0  1.353679e+09     2530188.0         103964.0   \n",
       "Bikes              52323571.0  4.990375e+08      918418.0          38834.0   \n",
       "Clothing           34114594.0  3.207251e+08      611520.0          24962.0   \n",
       "\n",
       "                  Country  Order Quantity   Unit Cost  Unit Price        Cost  \\\n",
       "Product Category                                                                \n",
       "Accessories        490840       1054162.0    443530.0   1185400.0   6255615.0   \n",
       "Bikes              181874         36411.0  29400230.0  49395368.0  41262858.0   \n",
       "Clothing           118538        254743.0    370352.0    617580.0   5531435.0   \n",
       "\n",
       "                   Revenue      Profit  \n",
       "Product Category                        \n",
       "Accessories       15117992   8862377.0  \n",
       "Bikes             61782134  20519276.0  \n",
       "Clothing           8370882   2839447.0  "
      ]
     },
     "execution_count": 82,
     "metadata": {},
     "output_type": "execute_result"
    }
   ],
   "source": [
    "df.drop(columns=['Frame Size']).groupby(['Product Category']).sum()"
   ]
  },
  {
   "cell_type": "markdown",
   "id": "8e6c7c9e",
   "metadata": {},
   "source": [
    "### Is there more males/females in each age category"
   ]
  },
  {
   "cell_type": "code",
   "execution_count": 89,
   "id": "5f9a2f69",
   "metadata": {},
   "outputs": [
    {
     "data": {
      "text/plain": [
       "Age Group             Customer Gender\n",
       "Adults (35-64)        1.0                28324\n",
       "                      2.0                27500\n",
       "Seniors (64+)         1.0                  396\n",
       "                      2.0                  334\n",
       "Young Adults (25-34)  1.0                19930\n",
       "                      2.0                18724\n",
       "Youth (<25)           1.0                 9662\n",
       "                      2.0                 8166\n",
       "Name: Revenue, dtype: int64"
      ]
     },
     "execution_count": 89,
     "metadata": {},
     "output_type": "execute_result"
    }
   ],
   "source": [
    "df.groupby([\"Age Group\", \"Customer Gender\"]).count()[\"Revenue\"]"
   ]
  }
 ],
 "metadata": {
  "kernelspec": {
   "display_name": "Python 3",
   "language": "python",
   "name": "python3"
  },
  "language_info": {
   "codemirror_mode": {
    "name": "ipython",
    "version": 3
   },
   "file_extension": ".py",
   "mimetype": "text/x-python",
   "name": "python",
   "nbconvert_exporter": "python",
   "pygments_lexer": "ipython3",
   "version": "3.8.5"
  }
 },
 "nbformat": 4,
 "nbformat_minor": 5
}
